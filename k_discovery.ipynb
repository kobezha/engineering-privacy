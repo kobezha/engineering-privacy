{
 "cells": [
  {
   "cell_type": "code",
   "execution_count": 1,
   "id": "dea12a87",
   "metadata": {
    "scrolled": false
   },
   "outputs": [
    {
     "name": "stderr",
     "output_type": "stream",
     "text": [
      "D:\\software\\Anaconda\\anaconda\\lib\\site-packages\\pandas\\core\\computation\\expressions.py:21: UserWarning: Pandas requires version '2.8.4' or newer of 'numexpr' (version '2.7.3' currently installed).\n",
      "  from pandas.core.computation.check import NUMEXPR_INSTALLED\n",
      "D:\\software\\Anaconda\\anaconda\\lib\\site-packages\\pandas\\core\\arrays\\masked.py:60: UserWarning: Pandas requires version '1.3.6' or newer of 'bottleneck' (version '1.3.2' currently installed).\n",
      "  from pandas.core import (\n"
     ]
    }
   ],
   "source": [
    "from anonypy.anonypy import anonypy\n",
    "import pandas as pd\n",
    "import numpy as np\n",
    "\n",
    "data_file_path = 'full_output.csv' \n",
    "df = pd.read_csv(data_file_path)\n",
    "\n",
    "categorical = set((\"test\",\"Outcome\"))  "
   ]
  },
  {
   "cell_type": "code",
   "execution_count": 2,
   "id": "2ec69e16",
   "metadata": {},
   "outputs": [
    {
     "data": {
      "text/html": [
       "<div>\n",
       "<style scoped>\n",
       "    .dataframe tbody tr th:only-of-type {\n",
       "        vertical-align: middle;\n",
       "    }\n",
       "\n",
       "    .dataframe tbody tr th {\n",
       "        vertical-align: top;\n",
       "    }\n",
       "\n",
       "    .dataframe thead th {\n",
       "        text-align: right;\n",
       "    }\n",
       "</style>\n",
       "<table border=\"1\" class=\"dataframe\">\n",
       "  <thead>\n",
       "    <tr style=\"text-align: right;\">\n",
       "      <th></th>\n",
       "      <th>test</th>\n",
       "      <th>Pregnancies</th>\n",
       "      <th>Glucose</th>\n",
       "      <th>BloodPressure</th>\n",
       "      <th>SkinThickness</th>\n",
       "      <th>Insulin</th>\n",
       "      <th>BMI</th>\n",
       "      <th>DiabetesPedigreeFunction</th>\n",
       "      <th>Age</th>\n",
       "      <th>Outcome</th>\n",
       "    </tr>\n",
       "  </thead>\n",
       "  <tbody>\n",
       "    <tr>\n",
       "      <th>0</th>\n",
       "      <td>1</td>\n",
       "      <td>6</td>\n",
       "      <td>148</td>\n",
       "      <td>72.0</td>\n",
       "      <td>35</td>\n",
       "      <td>169.5</td>\n",
       "      <td>33.6</td>\n",
       "      <td>0.627</td>\n",
       "      <td>50</td>\n",
       "      <td>1</td>\n",
       "    </tr>\n",
       "    <tr>\n",
       "      <th>1</th>\n",
       "      <td>1</td>\n",
       "      <td>1</td>\n",
       "      <td>85</td>\n",
       "      <td>66.0</td>\n",
       "      <td>29</td>\n",
       "      <td>102.5</td>\n",
       "      <td>26.6</td>\n",
       "      <td>0.351</td>\n",
       "      <td>31</td>\n",
       "      <td>0</td>\n",
       "    </tr>\n",
       "    <tr>\n",
       "      <th>2</th>\n",
       "      <td>1</td>\n",
       "      <td>8</td>\n",
       "      <td>183</td>\n",
       "      <td>64.0</td>\n",
       "      <td>32</td>\n",
       "      <td>169.5</td>\n",
       "      <td>23.3</td>\n",
       "      <td>0.672</td>\n",
       "      <td>32</td>\n",
       "      <td>1</td>\n",
       "    </tr>\n",
       "    <tr>\n",
       "      <th>3</th>\n",
       "      <td>1</td>\n",
       "      <td>1</td>\n",
       "      <td>89</td>\n",
       "      <td>66.0</td>\n",
       "      <td>23</td>\n",
       "      <td>94.0</td>\n",
       "      <td>28.1</td>\n",
       "      <td>0.167</td>\n",
       "      <td>21</td>\n",
       "      <td>0</td>\n",
       "    </tr>\n",
       "    <tr>\n",
       "      <th>4</th>\n",
       "      <td>1</td>\n",
       "      <td>5</td>\n",
       "      <td>137</td>\n",
       "      <td>40.0</td>\n",
       "      <td>35</td>\n",
       "      <td>168.0</td>\n",
       "      <td>43.1</td>\n",
       "      <td>2.288</td>\n",
       "      <td>33</td>\n",
       "      <td>1</td>\n",
       "    </tr>\n",
       "    <tr>\n",
       "      <th>...</th>\n",
       "      <td>...</td>\n",
       "      <td>...</td>\n",
       "      <td>...</td>\n",
       "      <td>...</td>\n",
       "      <td>...</td>\n",
       "      <td>...</td>\n",
       "      <td>...</td>\n",
       "      <td>...</td>\n",
       "      <td>...</td>\n",
       "      <td>...</td>\n",
       "    </tr>\n",
       "    <tr>\n",
       "      <th>763</th>\n",
       "      <td>1</td>\n",
       "      <td>10</td>\n",
       "      <td>101</td>\n",
       "      <td>76.0</td>\n",
       "      <td>48</td>\n",
       "      <td>180.0</td>\n",
       "      <td>32.9</td>\n",
       "      <td>0.171</td>\n",
       "      <td>63</td>\n",
       "      <td>0</td>\n",
       "    </tr>\n",
       "    <tr>\n",
       "      <th>764</th>\n",
       "      <td>1</td>\n",
       "      <td>2</td>\n",
       "      <td>122</td>\n",
       "      <td>70.0</td>\n",
       "      <td>27</td>\n",
       "      <td>102.5</td>\n",
       "      <td>36.8</td>\n",
       "      <td>0.340</td>\n",
       "      <td>27</td>\n",
       "      <td>0</td>\n",
       "    </tr>\n",
       "    <tr>\n",
       "      <th>765</th>\n",
       "      <td>1</td>\n",
       "      <td>5</td>\n",
       "      <td>121</td>\n",
       "      <td>72.0</td>\n",
       "      <td>23</td>\n",
       "      <td>112.0</td>\n",
       "      <td>26.2</td>\n",
       "      <td>0.245</td>\n",
       "      <td>30</td>\n",
       "      <td>0</td>\n",
       "    </tr>\n",
       "    <tr>\n",
       "      <th>766</th>\n",
       "      <td>1</td>\n",
       "      <td>1</td>\n",
       "      <td>126</td>\n",
       "      <td>60.0</td>\n",
       "      <td>32</td>\n",
       "      <td>169.5</td>\n",
       "      <td>30.1</td>\n",
       "      <td>0.349</td>\n",
       "      <td>47</td>\n",
       "      <td>1</td>\n",
       "    </tr>\n",
       "    <tr>\n",
       "      <th>767</th>\n",
       "      <td>1</td>\n",
       "      <td>1</td>\n",
       "      <td>93</td>\n",
       "      <td>70.0</td>\n",
       "      <td>31</td>\n",
       "      <td>102.5</td>\n",
       "      <td>30.4</td>\n",
       "      <td>0.315</td>\n",
       "      <td>23</td>\n",
       "      <td>0</td>\n",
       "    </tr>\n",
       "  </tbody>\n",
       "</table>\n",
       "<p>768 rows × 10 columns</p>\n",
       "</div>"
      ],
      "text/plain": [
       "     test  Pregnancies  Glucose  BloodPressure  SkinThickness  Insulin   BMI  \\\n",
       "0       1            6      148           72.0             35    169.5  33.6   \n",
       "1       1            1       85           66.0             29    102.5  26.6   \n",
       "2       1            8      183           64.0             32    169.5  23.3   \n",
       "3       1            1       89           66.0             23     94.0  28.1   \n",
       "4       1            5      137           40.0             35    168.0  43.1   \n",
       "..    ...          ...      ...            ...            ...      ...   ...   \n",
       "763     1           10      101           76.0             48    180.0  32.9   \n",
       "764     1            2      122           70.0             27    102.5  36.8   \n",
       "765     1            5      121           72.0             23    112.0  26.2   \n",
       "766     1            1      126           60.0             32    169.5  30.1   \n",
       "767     1            1       93           70.0             31    102.5  30.4   \n",
       "\n",
       "     DiabetesPedigreeFunction  Age  Outcome  \n",
       "0                       0.627   50        1  \n",
       "1                       0.351   31        0  \n",
       "2                       0.672   32        1  \n",
       "3                       0.167   21        0  \n",
       "4                       2.288   33        1  \n",
       "..                        ...  ...      ...  \n",
       "763                     0.171   63        0  \n",
       "764                     0.340   27        0  \n",
       "765                     0.245   30        0  \n",
       "766                     0.349   47        1  \n",
       "767                     0.315   23        0  \n",
       "\n",
       "[768 rows x 10 columns]"
      ]
     },
     "execution_count": 2,
     "metadata": {},
     "output_type": "execute_result"
    }
   ],
   "source": [
    "df"
   ]
  },
  {
   "cell_type": "code",
   "execution_count": 3,
   "id": "009d12c6",
   "metadata": {},
   "outputs": [],
   "source": [
    "for name in categorical:\n",
    "    df[name] = df[name].astype(\"category\")\n",
    "\n",
    "feature_columns = [\"Pregnancies\", \"Glucose\", \"BloodPressure\", \"SkinThickness\", \"Insulin\", \"BMI\", \"DiabetesPedigreeFunction\", \"Age\"]\n",
    "sensitive_column = \"Outcome\""
   ]
  },
  {
   "cell_type": "code",
   "execution_count": 4,
   "id": "e8ad48d3",
   "metadata": {},
   "outputs": [],
   "source": [
    "def k_anonymize_df(k, df, feature_columns, sensitive_column):\n",
    "    p = anonypy.Preserver(df, feature_columns, sensitive_column)\n",
    "    rows = p.anonymize_k_anonymity(k=4)\n",
    "    dfn = pd.DataFrame(rows)\n",
    "    return dfn"
   ]
  },
  {
   "cell_type": "code",
   "execution_count": 5,
   "id": "f689f572",
   "metadata": {},
   "outputs": [],
   "source": [
    "def wrap_dfn(dfn):\n",
    "    new_dfn = pd.DataFrame()\n",
    "    for _, row in dfn.iterrows():\n",
    "        # 根据count列的值复制该行count次\n",
    "        new_rows = pd.DataFrame([row.values] * row['count'], columns=dfn.columns)\n",
    "        # 将新行添加到新的DataFrame中\n",
    "        new_dfn = pd.concat([new_dfn, new_rows], ignore_index=True) \n",
    "        # 将新行的count值设置为1\n",
    "        new_dfn.loc[new_dfn.shape[0]-row['count']:, 'count'] = 1\n",
    "    new_dfn = new_dfn.drop('count', axis=1)\n",
    "    new_dfn.to_csv('new_dfn.csv', index=False)\n",
    "    return new_dfn"
   ]
  },
  {
   "cell_type": "code",
   "execution_count": 6,
   "id": "9cead86d",
   "metadata": {},
   "outputs": [],
   "source": [
    "from sklearn.model_selection import train_test_split\n",
    "from sklearn.preprocessing import MinMaxScaler\n",
    "from sklearn.preprocessing import scale, StandardScaler"
   ]
  },
  {
   "cell_type": "code",
   "execution_count": 7,
   "id": "7a05782e",
   "metadata": {},
   "outputs": [],
   "source": [
    "def preprocess(new_dfn):\n",
    "    # 类别型特征列表\n",
    "    cat_features = ['Pregnancies', 'Glucose', 'BloodPressure', 'SkinThickness', 'Insulin', 'BMI', 'DiabetesPedigreeFunction', 'Age']\n",
    "    # 对类别型特征进行one-hot编码\n",
    "    data_encoded = pd.get_dummies(new_dfn, columns=cat_features)\n",
    "    # 分离特征和标签\n",
    "    X = data_encoded.drop('Outcome', axis=1)\n",
    "    y = data_encoded['Outcome']\n",
    "    # 对数值型特征进行归一化处理\n",
    "    scaler = MinMaxScaler()\n",
    "    X_scaled = pd.DataFrame(scaler.fit_transform(X), columns=X.columns)\n",
    "    # 合并归一化后的特征和标签\n",
    "    preprocessed_data = pd.concat([X_scaled, y], axis=1)\n",
    "    preprocessed_data.to_csv('preprocessed_data.csv', index=False)\n",
    "    return X, y"
   ]
  },
  {
   "cell_type": "code",
   "execution_count": 8,
   "id": "dc30b76f",
   "metadata": {},
   "outputs": [],
   "source": [
    "def split_dataset(X, y):\n",
    "    X_train, X_test, y_train , y_test = train_test_split(X,y, test_size=0.2, random_state=0)\n",
    "    scaler =StandardScaler()\n",
    "    X_train = scaler.fit_transform(X_train)\n",
    "    X_test = scaler.transform(X_test)\n",
    "    return X_train, X_test, y_train, y_test"
   ]
  },
  {
   "cell_type": "code",
   "execution_count": 9,
   "id": "8ccf705d",
   "metadata": {},
   "outputs": [],
   "source": [
    "def get_data(k):\n",
    "    dfn = k_anonymize_df(k, df, feature_columns, sensitive_column)\n",
    "    new_dfn = wrap_dfn(dfn)\n",
    "    X, y = preprocess(new_dfn)\n",
    "    X_train, X_test, y_train, y_test = split_dataset(X, y)\n",
    "    return X_train, X_test, y_train.values, y_test.values"
   ]
  },
  {
   "cell_type": "code",
   "execution_count": 10,
   "id": "299516e5",
   "metadata": {},
   "outputs": [
    {
     "name": "stderr",
     "output_type": "stream",
     "text": [
      "E:\\jupyter\\eps\\anonypy\\anonypy\\anonypy.py:76: FutureWarning: The default of observed=False is deprecated and will be changed to True in a future version of pandas. Pass observed=False to retain current behavior or observed=True to adopt the future default and silence this warning.\n",
      "  df.loc[partition].groupby(sensitive_column).agg({sensitive_column: \"count\"})\n"
     ]
    }
   ],
   "source": [
    "X_train, X_test, y_train, y_test = get_data(2)"
   ]
  },
  {
   "cell_type": "code",
   "execution_count": 11,
   "id": "a178713d",
   "metadata": {},
   "outputs": [
    {
     "data": {
      "text/plain": [
       "((614, 1003), (614,))"
      ]
     },
     "execution_count": 11,
     "metadata": {},
     "output_type": "execute_result"
    }
   ],
   "source": [
    "X_train.shape, y_train.shape"
   ]
  },
  {
   "cell_type": "code",
   "execution_count": 12,
   "id": "16bc5790",
   "metadata": {},
   "outputs": [
    {
     "name": "stderr",
     "output_type": "stream",
     "text": [
      "WARNING:root:Limited tf.compat.v2.summary API due to missing TensorBoard installation.\n",
      "WARNING:root:Limited tf.compat.v2.summary API due to missing TensorBoard installation.\n",
      "WARNING:root:Limited tf.compat.v2.summary API due to missing TensorBoard installation.\n",
      "WARNING:root:Limited tf.summary API due to missing TensorBoard installation.\n",
      "WARNING:root:Limited tf.compat.v2.summary API due to missing TensorBoard installation.\n"
     ]
    },
    {
     "name": "stdout",
     "output_type": "stream",
     "text": [
      "WARNING:tensorflow:From D:\\software\\Anaconda\\anaconda\\lib\\site-packages\\keras\\src\\losses.py:2976: The name tf.losses.sparse_softmax_cross_entropy is deprecated. Please use tf.compat.v1.losses.sparse_softmax_cross_entropy instead.\n",
      "\n"
     ]
    },
    {
     "name": "stderr",
     "output_type": "stream",
     "text": [
      "WARNING:tensorflow:From D:\\software\\Anaconda\\anaconda\\lib\\site-packages\\keras\\src\\losses.py:2976: The name tf.losses.sparse_softmax_cross_entropy is deprecated. Please use tf.compat.v1.losses.sparse_softmax_cross_entropy instead.\n",
      "\n"
     ]
    }
   ],
   "source": [
    "import tensorflow as tf\n",
    "from tensorflow import keras"
   ]
  },
  {
   "cell_type": "code",
   "execution_count": 13,
   "id": "f8f64c59",
   "metadata": {},
   "outputs": [],
   "source": [
    "def create_and_compile_model():\n",
    "    model = keras.Sequential([\n",
    "        keras.layers.Dense(256, activation='relu'),\n",
    "        keras.layers.Dense(64, activation='relu'),\n",
    "        keras.layers.Dense(8, activation='relu'),\n",
    "        keras.layers.Dense(1, activation='sigmoid'),\n",
    "    ])\n",
    "    model.compile(\"adam\", \"binary_crossentropy\", metrics=[\"accuracy\"])\n",
    "    return model"
   ]
  },
  {
   "cell_type": "code",
   "execution_count": 14,
   "id": "340e63f6",
   "metadata": {},
   "outputs": [],
   "source": [
    "def run_experiment_with_k(k):\n",
    "    X_train, X_test, y_train, y_test = get_data(k)\n",
    "    model = create_and_compile_model()\n",
    "    r = model.fit(X_train, y_train, epochs=10, validation_data=(X_test, y_test), verbose=0)\n",
    "    hist = r.history\n",
    "    return hist['val_accuracy']"
   ]
  },
  {
   "cell_type": "code",
   "execution_count": 15,
   "id": "91a82ca9",
   "metadata": {},
   "outputs": [],
   "source": [
    "from tqdm.notebook import trange"
   ]
  },
  {
   "cell_type": "code",
   "execution_count": 16,
   "id": "e05bf9e5",
   "metadata": {},
   "outputs": [
    {
     "data": {
      "application/vnd.jupyter.widget-view+json": {
       "model_id": "e247eaeb60e941ceab39668c888635f3",
       "version_major": 2,
       "version_minor": 0
      },
      "text/plain": [
       "  0%|          | 0/23 [00:00<?, ?it/s]"
      ]
     },
     "metadata": {},
     "output_type": "display_data"
    },
    {
     "name": "stderr",
     "output_type": "stream",
     "text": [
      "E:\\jupyter\\eps\\anonypy\\anonypy\\anonypy.py:76: FutureWarning: The default of observed=False is deprecated and will be changed to True in a future version of pandas. Pass observed=False to retain current behavior or observed=True to adopt the future default and silence this warning.\n",
      "  df.loc[partition].groupby(sensitive_column).agg({sensitive_column: \"count\"})\n"
     ]
    },
    {
     "name": "stdout",
     "output_type": "stream",
     "text": [
      "WARNING:tensorflow:From D:\\software\\Anaconda\\anaconda\\lib\\site-packages\\keras\\src\\backend.py:873: The name tf.get_default_graph is deprecated. Please use tf.compat.v1.get_default_graph instead.\n",
      "\n"
     ]
    },
    {
     "name": "stderr",
     "output_type": "stream",
     "text": [
      "WARNING:tensorflow:From D:\\software\\Anaconda\\anaconda\\lib\\site-packages\\keras\\src\\backend.py:873: The name tf.get_default_graph is deprecated. Please use tf.compat.v1.get_default_graph instead.\n",
      "\n"
     ]
    },
    {
     "name": "stdout",
     "output_type": "stream",
     "text": [
      "WARNING:tensorflow:From D:\\software\\Anaconda\\anaconda\\lib\\site-packages\\keras\\src\\optimizers\\__init__.py:309: The name tf.train.Optimizer is deprecated. Please use tf.compat.v1.train.Optimizer instead.\n",
      "\n"
     ]
    },
    {
     "name": "stderr",
     "output_type": "stream",
     "text": [
      "WARNING:tensorflow:From D:\\software\\Anaconda\\anaconda\\lib\\site-packages\\keras\\src\\optimizers\\__init__.py:309: The name tf.train.Optimizer is deprecated. Please use tf.compat.v1.train.Optimizer instead.\n",
      "\n"
     ]
    },
    {
     "name": "stdout",
     "output_type": "stream",
     "text": [
      "WARNING:tensorflow:From D:\\software\\Anaconda\\anaconda\\lib\\site-packages\\keras\\src\\utils\\tf_utils.py:492: The name tf.ragged.RaggedTensorValue is deprecated. Please use tf.compat.v1.ragged.RaggedTensorValue instead.\n",
      "\n"
     ]
    },
    {
     "name": "stderr",
     "output_type": "stream",
     "text": [
      "WARNING:tensorflow:From D:\\software\\Anaconda\\anaconda\\lib\\site-packages\\keras\\src\\utils\\tf_utils.py:492: The name tf.ragged.RaggedTensorValue is deprecated. Please use tf.compat.v1.ragged.RaggedTensorValue instead.\n",
      "\n"
     ]
    },
    {
     "name": "stdout",
     "output_type": "stream",
     "text": [
      "WARNING:tensorflow:From D:\\software\\Anaconda\\anaconda\\lib\\site-packages\\keras\\src\\engine\\base_layer_utils.py:384: The name tf.executing_eagerly_outside_functions is deprecated. Please use tf.compat.v1.executing_eagerly_outside_functions instead.\n",
      "\n"
     ]
    },
    {
     "name": "stderr",
     "output_type": "stream",
     "text": [
      "WARNING:tensorflow:From D:\\software\\Anaconda\\anaconda\\lib\\site-packages\\keras\\src\\engine\\base_layer_utils.py:384: The name tf.executing_eagerly_outside_functions is deprecated. Please use tf.compat.v1.executing_eagerly_outside_functions instead.\n",
      "\n",
      "E:\\jupyter\\eps\\anonypy\\anonypy\\anonypy.py:76: FutureWarning: The default of observed=False is deprecated and will be changed to True in a future version of pandas. Pass observed=False to retain current behavior or observed=True to adopt the future default and silence this warning.\n",
      "  df.loc[partition].groupby(sensitive_column).agg({sensitive_column: \"count\"})\n",
      "E:\\jupyter\\eps\\anonypy\\anonypy\\anonypy.py:76: FutureWarning: The default of observed=False is deprecated and will be changed to True in a future version of pandas. Pass observed=False to retain current behavior or observed=True to adopt the future default and silence this warning.\n",
      "  df.loc[partition].groupby(sensitive_column).agg({sensitive_column: \"count\"})\n",
      "E:\\jupyter\\eps\\anonypy\\anonypy\\anonypy.py:76: FutureWarning: The default of observed=False is deprecated and will be changed to True in a future version of pandas. Pass observed=False to retain current behavior or observed=True to adopt the future default and silence this warning.\n",
      "  df.loc[partition].groupby(sensitive_column).agg({sensitive_column: \"count\"})\n",
      "E:\\jupyter\\eps\\anonypy\\anonypy\\anonypy.py:76: FutureWarning: The default of observed=False is deprecated and will be changed to True in a future version of pandas. Pass observed=False to retain current behavior or observed=True to adopt the future default and silence this warning.\n",
      "  df.loc[partition].groupby(sensitive_column).agg({sensitive_column: \"count\"})\n",
      "E:\\jupyter\\eps\\anonypy\\anonypy\\anonypy.py:76: FutureWarning: The default of observed=False is deprecated and will be changed to True in a future version of pandas. Pass observed=False to retain current behavior or observed=True to adopt the future default and silence this warning.\n",
      "  df.loc[partition].groupby(sensitive_column).agg({sensitive_column: \"count\"})\n",
      "E:\\jupyter\\eps\\anonypy\\anonypy\\anonypy.py:76: FutureWarning: The default of observed=False is deprecated and will be changed to True in a future version of pandas. Pass observed=False to retain current behavior or observed=True to adopt the future default and silence this warning.\n",
      "  df.loc[partition].groupby(sensitive_column).agg({sensitive_column: \"count\"})\n",
      "E:\\jupyter\\eps\\anonypy\\anonypy\\anonypy.py:76: FutureWarning: The default of observed=False is deprecated and will be changed to True in a future version of pandas. Pass observed=False to retain current behavior or observed=True to adopt the future default and silence this warning.\n",
      "  df.loc[partition].groupby(sensitive_column).agg({sensitive_column: \"count\"})\n",
      "E:\\jupyter\\eps\\anonypy\\anonypy\\anonypy.py:76: FutureWarning: The default of observed=False is deprecated and will be changed to True in a future version of pandas. Pass observed=False to retain current behavior or observed=True to adopt the future default and silence this warning.\n",
      "  df.loc[partition].groupby(sensitive_column).agg({sensitive_column: \"count\"})\n",
      "E:\\jupyter\\eps\\anonypy\\anonypy\\anonypy.py:76: FutureWarning: The default of observed=False is deprecated and will be changed to True in a future version of pandas. Pass observed=False to retain current behavior or observed=True to adopt the future default and silence this warning.\n",
      "  df.loc[partition].groupby(sensitive_column).agg({sensitive_column: \"count\"})\n",
      "E:\\jupyter\\eps\\anonypy\\anonypy\\anonypy.py:76: FutureWarning: The default of observed=False is deprecated and will be changed to True in a future version of pandas. Pass observed=False to retain current behavior or observed=True to adopt the future default and silence this warning.\n",
      "  df.loc[partition].groupby(sensitive_column).agg({sensitive_column: \"count\"})\n",
      "E:\\jupyter\\eps\\anonypy\\anonypy\\anonypy.py:76: FutureWarning: The default of observed=False is deprecated and will be changed to True in a future version of pandas. Pass observed=False to retain current behavior or observed=True to adopt the future default and silence this warning.\n",
      "  df.loc[partition].groupby(sensitive_column).agg({sensitive_column: \"count\"})\n",
      "E:\\jupyter\\eps\\anonypy\\anonypy\\anonypy.py:76: FutureWarning: The default of observed=False is deprecated and will be changed to True in a future version of pandas. Pass observed=False to retain current behavior or observed=True to adopt the future default and silence this warning.\n",
      "  df.loc[partition].groupby(sensitive_column).agg({sensitive_column: \"count\"})\n",
      "E:\\jupyter\\eps\\anonypy\\anonypy\\anonypy.py:76: FutureWarning: The default of observed=False is deprecated and will be changed to True in a future version of pandas. Pass observed=False to retain current behavior or observed=True to adopt the future default and silence this warning.\n",
      "  df.loc[partition].groupby(sensitive_column).agg({sensitive_column: \"count\"})\n",
      "E:\\jupyter\\eps\\anonypy\\anonypy\\anonypy.py:76: FutureWarning: The default of observed=False is deprecated and will be changed to True in a future version of pandas. Pass observed=False to retain current behavior or observed=True to adopt the future default and silence this warning.\n",
      "  df.loc[partition].groupby(sensitive_column).agg({sensitive_column: \"count\"})\n",
      "E:\\jupyter\\eps\\anonypy\\anonypy\\anonypy.py:76: FutureWarning: The default of observed=False is deprecated and will be changed to True in a future version of pandas. Pass observed=False to retain current behavior or observed=True to adopt the future default and silence this warning.\n",
      "  df.loc[partition].groupby(sensitive_column).agg({sensitive_column: \"count\"})\n",
      "E:\\jupyter\\eps\\anonypy\\anonypy\\anonypy.py:76: FutureWarning: The default of observed=False is deprecated and will be changed to True in a future version of pandas. Pass observed=False to retain current behavior or observed=True to adopt the future default and silence this warning.\n",
      "  df.loc[partition].groupby(sensitive_column).agg({sensitive_column: \"count\"})\n",
      "E:\\jupyter\\eps\\anonypy\\anonypy\\anonypy.py:76: FutureWarning: The default of observed=False is deprecated and will be changed to True in a future version of pandas. Pass observed=False to retain current behavior or observed=True to adopt the future default and silence this warning.\n",
      "  df.loc[partition].groupby(sensitive_column).agg({sensitive_column: \"count\"})\n",
      "E:\\jupyter\\eps\\anonypy\\anonypy\\anonypy.py:76: FutureWarning: The default of observed=False is deprecated and will be changed to True in a future version of pandas. Pass observed=False to retain current behavior or observed=True to adopt the future default and silence this warning.\n",
      "  df.loc[partition].groupby(sensitive_column).agg({sensitive_column: \"count\"})\n",
      "E:\\jupyter\\eps\\anonypy\\anonypy\\anonypy.py:76: FutureWarning: The default of observed=False is deprecated and will be changed to True in a future version of pandas. Pass observed=False to retain current behavior or observed=True to adopt the future default and silence this warning.\n",
      "  df.loc[partition].groupby(sensitive_column).agg({sensitive_column: \"count\"})\n",
      "E:\\jupyter\\eps\\anonypy\\anonypy\\anonypy.py:76: FutureWarning: The default of observed=False is deprecated and will be changed to True in a future version of pandas. Pass observed=False to retain current behavior or observed=True to adopt the future default and silence this warning.\n",
      "  df.loc[partition].groupby(sensitive_column).agg({sensitive_column: \"count\"})\n",
      "E:\\jupyter\\eps\\anonypy\\anonypy\\anonypy.py:76: FutureWarning: The default of observed=False is deprecated and will be changed to True in a future version of pandas. Pass observed=False to retain current behavior or observed=True to adopt the future default and silence this warning.\n",
      "  df.loc[partition].groupby(sensitive_column).agg({sensitive_column: \"count\"})\n",
      "E:\\jupyter\\eps\\anonypy\\anonypy\\anonypy.py:76: FutureWarning: The default of observed=False is deprecated and will be changed to True in a future version of pandas. Pass observed=False to retain current behavior or observed=True to adopt the future default and silence this warning.\n",
      "  df.loc[partition].groupby(sensitive_column).agg({sensitive_column: \"count\"})\n"
     ]
    }
   ],
   "source": [
    "histories = []\n",
    "for k in trange(2, 25):\n",
    "    hist = run_experiment_with_k(k)\n",
    "    histories.append(hist)"
   ]
  },
  {
   "cell_type": "code",
   "execution_count": 20,
   "id": "09ae3a29",
   "metadata": {},
   "outputs": [],
   "source": [
    "max_dicovery = [max(h) for h in histories]"
   ]
  },
  {
   "cell_type": "code",
   "execution_count": 26,
   "id": "cedd1fe6",
   "metadata": {},
   "outputs": [
    {
     "data": {
      "image/png": "[encoded data removed]",
      "text/plain": [
       "<Figure size 720x432 with 1 Axes>"
      ]
     },
     "metadata": {
      "needs_background": "light"
     },
     "output_type": "display_data"
    }
   ],
   "source": [
    "import matplotlib.pyplot as plt\n",
    "\n",
    "# Sample list of float values\n",
    "# Create a list of x-values (K values from 2 to 25)\n",
    "x_values = list(range(2, 25))\n",
    "\n",
    "# Find the maximum value and its index\n",
    "max_value = max(max_dicovery)\n",
    "max_index = max_dicovery.index(max_value)\n",
    "\n",
    "# Plot the line chart\n",
    "fig, ax = plt.subplots(figsize=(10, 6))\n",
    "ax.plot(x_values, max_dicovery, marker='o', linestyle='-', label='Values', color='b')\n",
    "ax.plot(x_values[max_index], max_value, marker='*', markersize=12, color='r', label='Max Value:'+str(round(max_value, 4)))\n",
    "\n",
    "# Plot x and y intercepts\n",
    "ax.axhline(max_value, color='g', linestyle='--', label='y-intercept')\n",
    "ax.axvline(max_index+2, color='g', linestyle='--', label='x-intercept')\n",
    "\n",
    "ax.set_xlabel('K')\n",
    "ax.set_ylabel('Value')\n",
    "ax.set_xticks(range(2, 25, 2))  # Set x-ticks for every 2 values\n",
    "ax.legend()\n",
    "plt.show()"
   ]
  },
  {
   "cell_type": "code",
   "execution_count": null,
   "id": "d24ac574",
   "metadata": {},
   "outputs": [],
   "source": []
  }
 ],
 "metadata": {
  "kernelspec": {
   "display_name": "Python 3 (ipykernel)",
   "language": "python",
   "name": "python3"
  },
  "language_info": {
   "codemirror_mode": {
    "name": "ipython",
    "version": 3
   },
   "file_extension": ".py",
   "mimetype": "text/x-python",
   "name": "python",
   "nbconvert_exporter": "python",
   "pygments_lexer": "ipython3",
   "version": "3.9.7"
  }
 },
 "nbformat": 4,
 "nbformat_minor": 5
}
